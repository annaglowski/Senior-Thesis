{
 "cells": [
  {
   "cell_type": "code",
   "execution_count": 1,
   "id": "fc6dbe21",
   "metadata": {},
   "outputs": [],
   "source": [
    "import pandas as pd\n",
    "import csv\n",
    "import os\n",
    "import numpy as np\n",
    "import gurobipy as gp\n",
    "from gurobipy import LinExpr, GRB\n",
    "from itertools import permutations\n",
    "from itertools import combinations\n",
    "import googlemaps as gmaps\n",
    "from datetime import datetime\n",
    "\n",
    "\n",
    "gmaps = gmaps.Client(key= # Your Google Maps API Key Here)"
   ]
  },
  {
   "cell_type": "markdown",
   "id": "e813a25f",
   "metadata": {},
   "source": [
    "-------------------------------------------------------------------------------------------------------------------"
   ]
  },
  {
   "cell_type": "markdown",
   "id": "a770db31",
   "metadata": {},
   "source": [
    "## Map Rides"
   ]
  },
  {
   "cell_type": "code",
   "execution_count": null,
   "id": "e39bdd69",
   "metadata": {},
   "outputs": [],
   "source": [
    "capitals = ['Its a Small World', \n",
    "            'Space Mountain', \n",
    "            'Star Wars: Rise of Resistance', \n",
    "            'Indiana Jones Adventure',\n",
    "            'Pirates of the Caribbean', \n",
    "            'Splash Mountain', \n",
    "            'Big Thunder Mountain Railway',\n",
    "            'Matterhorn Bobsleds']"
   ]
  },
  {
   "cell_type": "code",
   "execution_count": null,
   "id": "adb0eef3",
   "metadata": {},
   "outputs": [],
   "source": [
    "# create dictionary of latitude and longitude for each ride\n",
    "lat_long = pd.read_csv('Lat_Long_DFood.csv',index_col=0)\n",
    "\n",
    "# ride name as key with (lat, long) as values\n",
    "coordinates = {(row['Ride']): (row['Latitude'], row['Longitude']) for _, row in lat_long.iterrows()}\n",
    "\n",
    "# because coordinates are similar, change to slightly different coordinates for marker on map\n",
    "coordinates['Pirates of the Caribbean'] = (33.811757, -117.9207289)\n",
    "coordinates['Exit'] = ((33.809997, -118.9189785))\n"
   ]
  },
  {
   "cell_type": "code",
   "execution_count": null,
   "id": "b24da9c1",
   "metadata": {},
   "outputs": [],
   "source": [
    "# Map the ride's location using google maps static maps\n",
    "\n",
    "# [Waypoints] use path to create waypoints that the route must go through\n",
    "waypoints = []\n",
    "\n",
    "for i in capitals:\n",
    "    waypoints.append(coordinates[i])\n",
    "    \n",
    "    \n",
    "# [Direction] get step by step directions from Entrance to Exit through waypoints\n",
    "results = gmaps.directions(origin = coordinates['Entrance'], destination = coordinates['Entrance'], mode = 'walking', waypoints= waypoints)\n",
    "\n",
    "\n",
    "# [Mapping] Plot on map\n",
    "marker_points = []\n",
    "waypoints = []\n",
    "\n",
    "#extract the location (lat and long) of each turn from the previous directions function\n",
    "for leg in results[0][\"legs\"]:\n",
    "    # adds a marker for each starting waypoint\n",
    "    leg_start_loc = leg[\"start_location\"]\n",
    "    marker_points.append(f'{leg_start_loc[\"lat\"]},{leg_start_loc[\"lng\"]}')\n",
    "    for step in leg[\"steps\"]:\n",
    "        # adds a point for each turn on the way to the next ride on path\n",
    "        end_loc = step[\"end_location\"]\n",
    "        waypoints.append(f'{end_loc[\"lat\"]},{end_loc[\"lng\"]}')\n",
    "# adds a marker for the last ride on path\n",
    "last_stop = results[0][\"legs\"][-1][\"end_location\"]\n",
    "marker_points.append(f'{last_stop[\"lat\"]},{last_stop[\"lng\"]}')\n",
    " \n",
    "# labels all marker points (all rides on path) with a letter\n",
    "markers = [ \"color:red|size:mid|label:\" + chr(65+i) + \"|\" \n",
    "           + r for i, r in enumerate(marker_points)]\n",
    "\n",
    "# [Print Map]\n",
    "result_map = gmaps.static_map(\n",
    "                 center = [33.812252236772736, -117.91894201571984],\n",
    "                 scale=2, \n",
    "                 zoom=18.5,\n",
    "                 size=[630, 630], \n",
    "                 format=\"jpg\", \n",
    "                 maptype=\"satellite\",\n",
    "                 markers=markers)\n",
    "\n",
    "# [Save Map]\n",
    "with open('[Thesis]Ride_General_Map.jpg', 'wb') as img:\n",
    "    for chunk in result_map:\n",
    "        img.write(chunk)"
   ]
  },
  {
   "cell_type": "markdown",
   "id": "7b2a3c57",
   "metadata": {},
   "source": [
    "## Map of Dining Options"
   ]
  },
  {
   "cell_type": "code",
   "execution_count": 10,
   "id": "f5dad1da",
   "metadata": {},
   "outputs": [],
   "source": [
    "food = ['Galactic Grill - L', \n",
    "        \"Daisy's Dinner - L\", \n",
    "        'Blue Bayou Restaurant - L', \n",
    "        'Bengal Barbeque - L',\n",
    "        'The Golden Horseshoe - L', \n",
    "        'Red Rose Tavern - L']"
   ]
  },
  {
   "cell_type": "code",
   "execution_count": 6,
   "id": "480fcbb4",
   "metadata": {},
   "outputs": [],
   "source": [
    "# create dictionary of latitude and longitude for each ride\n",
    "lat_long = pd.read_csv('Lat_Long_DFood.csv',index_col=0)\n",
    "\n",
    "# ride name as key with (lat, long) as values\n",
    "coordinates = {(row['Ride']): (row['Latitude'], row['Longitude']) for _, row in lat_long.iterrows()}\n",
    "\n",
    "# because coordinates are similar, change to slightly different coordinates for marker on map\n",
    "coordinates['Pirates of the Caribbean'] = (33.811757, -117.9207289)\n",
    "coordinates['Exit'] = ((33.809997, -118.9189785))"
   ]
  },
  {
   "cell_type": "code",
   "execution_count": 16,
   "id": "5f82ce4a",
   "metadata": {},
   "outputs": [],
   "source": [
    "# Map the dining locations using google maps static maps\n",
    "\n",
    "# [Waypoints] use path to create waypoints that the route must go through\n",
    "waypoints = []\n",
    "\n",
    "for i in food:\n",
    "    waypoints.append(coordinates[i])\n",
    "    \n",
    "    \n",
    "# [Direction] get step by step directions from Entrance to Exit through waypoints\n",
    "results = gmaps.directions(origin = coordinates['Plaza Inn - L'], destination = coordinates['Troubadour Tavern - L'], mode = 'walking', waypoints= waypoints)\n",
    "\n",
    "\n",
    "# [Mapping] Plot on map\n",
    "marker_points = []\n",
    "waypoints = []\n",
    "\n",
    "#extract the location (lat and long) of each turn from the previous directions function\n",
    "for leg in results[0][\"legs\"]:\n",
    "    # adds a marker for each starting waypoint\n",
    "    leg_start_loc = leg[\"start_location\"]\n",
    "    marker_points.append(f'{leg_start_loc[\"lat\"]},{leg_start_loc[\"lng\"]}')\n",
    "    for step in leg[\"steps\"]:\n",
    "        # adds a point for each turn on the way to the next ride on path\n",
    "        end_loc = step[\"end_location\"]\n",
    "        waypoints.append(f'{end_loc[\"lat\"]},{end_loc[\"lng\"]}')\n",
    "# adds a marker for the last ride on path\n",
    "last_stop = results[0][\"legs\"][-1][\"end_location\"]\n",
    "marker_points.append(f'{last_stop[\"lat\"]},{last_stop[\"lng\"]}')\n",
    " \n",
    "# labels all marker points (all rides on path) with a letter\n",
    "markers = [ \"color:red|size:mid|label:\" + chr(65+i) + \"|\" \n",
    "           + r for i, r in enumerate(marker_points)]\n",
    "\n",
    "# [Print Map]\n",
    "result_map = gmaps.static_map(\n",
    "                 center = [33.812252236772736, -117.91894201571984],\n",
    "                 scale=2, \n",
    "                 zoom=18.5,\n",
    "                 size=[630, 630], \n",
    "                 format=\"jpg\", \n",
    "                 maptype=\"satellite\",\n",
    "                 markers=markers)\n",
    "\n",
    "# [Save Map]\n",
    "with open('[Thesis]Dining_General_Map.jpg', 'wb') as img:\n",
    "    for chunk in result_map:\n",
    "        img.write(chunk)"
   ]
  },
  {
   "cell_type": "markdown",
   "id": "644c0f66",
   "metadata": {},
   "source": [
    "-------------------------------------------------------------------------------------------------------------------"
   ]
  },
  {
   "cell_type": "markdown",
   "id": "39827033",
   "metadata": {},
   "source": [
    "## Mapping Fireworks"
   ]
  },
  {
   "cell_type": "code",
   "execution_count": 3,
   "id": "57326845",
   "metadata": {},
   "outputs": [],
   "source": [
    "lat_long = pd.read_csv('Lat_Long_trides.csv',index_col=0)\n",
    "\n",
    "# ride name as key with (lat, long) as values\n",
    "coordinates = {(row['Ride']): (row['Latitude'], row['Longitude']) for _, row in lat_long.iterrows()}\n",
    "\n",
    "# because coordinates are similar, change to slightly different coordinates for marker on map\n",
    "coordinates['Pirates of the Caribbean'] = (33.811757, -117.9207289)\n",
    "coordinates['Exit'] = ((33.809997, -118.9189785))"
   ]
  },
  {
   "cell_type": "code",
   "execution_count": 12,
   "id": "59e0df6b",
   "metadata": {},
   "outputs": [],
   "source": [
    "# Map the Fireworks' Location using google maps Static Maps\n",
    "\n",
    "# [Direction] get step by step directions from Entrance to Exit through waypoints\n",
    "results = gmaps.directions(origin = coordinates['Fireworks'], destination = coordinates['Fireworks'], mode = 'walking')\n",
    "\n",
    "\n",
    "# [Mapping] Plot on map\n",
    "marker_points = []\n",
    "waypoints = []\n",
    "\n",
    "#extract the location (lat and long) of each turn from the previous directions function\n",
    "for leg in results[0][\"legs\"]:\n",
    "    # adds a marker for each starting waypoint\n",
    "    leg_start_loc = leg[\"start_location\"]\n",
    "    marker_points.append(f'{leg_start_loc[\"lat\"]},{leg_start_loc[\"lng\"]}')\n",
    "    for step in leg[\"steps\"]:\n",
    "        # adds a point for each turn on the way to the next ride on path\n",
    "        end_loc = step[\"end_location\"]\n",
    "        waypoints.append(f'{end_loc[\"lat\"]},{end_loc[\"lng\"]}')\n",
    "# adds a marker for the last ride on path\n",
    "last_stop = results[0][\"legs\"][-1][\"end_location\"]\n",
    "marker_points.append(f'{last_stop[\"lat\"]},{last_stop[\"lng\"]}')\n",
    " \n",
    "# labels all marker points (all rides on path) with a letter\n",
    "markers = [ \"color:red|size:mid|label:\" + chr(65+i) + \"|\" \n",
    "           + r for i, r in enumerate(marker_points)]\n",
    "\n",
    "# [Print Map]\n",
    "result_map = gmaps.static_map(\n",
    "                 center = [33.812252236772736, -117.91894201571984],\n",
    "                 scale=2, \n",
    "                 zoom=16,\n",
    "                 size=[630, 630], \n",
    "                 format=\"jpg\", \n",
    "                 maptype=\"satellite\",\n",
    "                 markers=markers)\n",
    "\n",
    "# [Save Map]\n",
    "with open('[Thesis]Fireworks_General_Map.jpg', 'wb') as img:\n",
    "    for chunk in result_map:\n",
    "        img.write(chunk)"
   ]
  }
 ],
 "metadata": {
  "kernelspec": {
   "display_name": "Python 3 (ipykernel)",
   "language": "python",
   "name": "python3"
  },
  "language_info": {
   "codemirror_mode": {
    "name": "ipython",
    "version": 3
   },
   "file_extension": ".py",
   "mimetype": "text/x-python",
   "name": "python",
   "nbconvert_exporter": "python",
   "pygments_lexer": "ipython3",
   "version": "3.9.7"
  }
 },
 "nbformat": 4,
 "nbformat_minor": 5
}
